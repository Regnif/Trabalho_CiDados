{
 "cells": [
  {
   "cell_type": "markdown",
   "metadata": {},
   "source": [
    "# Projeto 1 - Ciência dos Dados"
   ]
  },
  {
   "cell_type": "markdown",
   "metadata": {},
   "source": [
    "Nome: Erick Finger"
   ]
  },
  {
   "cell_type": "markdown",
   "metadata": {},
   "source": [
    "## Pergunta (s) a ser respondida"
   ]
  },
  {
   "cell_type": "markdown",
   "metadata": {},
   "source": [
    "Os indicadores usados no cálculo do IDH experienciam melhora no período de 1993-2000 para Laos, Cambodia, Vietnã e Mianmar?"
   ]
  },
  {
   "cell_type": "markdown",
   "metadata": {},
   "source": [
    "## Explicação da hipótese e mecanismo"
   ]
  },
  {
   "cell_type": "markdown",
   "metadata": {},
   "source": [
    "## Hipótese:\n",
    "\n",
    "Ao longo da década de 1990, foram observadas algumas ocorrências na Ásia:\n",
    "- a ASEAN (Association of Southeast Asian Nations), um bloco que visava o crescimento econômico e o desenvolvimento cultural e social dos países-membros, se tornou um bloco de livre-comércio em 1992;\n",
    "- em 1995, o Vietnã se junta à ASEAN\n",
    "- em 1997, Laos e Mianmar se juntam à ASEAN\n",
    "- em 1999, o Cambodia se junta à ASEAN, sendo o país-membro mais recente\n",
    "\n",
    "Dado isso, acredita-se que a entrada no bloco por parte dos 4 países mencionados tenha contribuído em aspectos como crescimento econômico, educação e expectativa de vida, ou seja, entrar no bloco contribuiu para o desenvolvimento desses países\n",
    "\n",
    "## Mecanismo:\n",
    "\n",
    "Os objetivos fundamentais da ASEAN são a paz regional e o desenvolvimento econômico, social, cultural, tecnológico, científico e administrativo dos países-membros, então juntar-se ao bloco, ainda mais no período em que está se tornando um bloco de livre comércio, deve contribuir em alguma escala para o desenvolvimento de um país.\n",
    "\n",
    "## Referência:\n",
    "\n",
    "https://asean.org/asean/about-asean/"
   ]
  },
  {
   "cell_type": "markdown",
   "metadata": {},
   "source": [
    "## Bases de dados usadas"
   ]
  },
  {
   "cell_type": "markdown",
   "metadata": {},
   "source": [
    "# GDPpercapita:\n",
    "\n",
    "https://data.worldbank.org/indicator/NY.GDP.PCAP.KD\n",
    "\n",
    "# GDP:\n",
    "\n",
    "https://www.gapminder.org/data/documentation/gd001/\n",
    "\n",
    "# Expectativa de vida:\n",
    "\n",
    "https://www.gapminder.org/data/documentation/gd004/\n",
    "\n",
    "# Tempo na escola de homens entre 15 e 24 anos:\n",
    "\n",
    "http://ghdx.healthdata.org/record/ihme-data/global-educational-attainment-1970-2015\n",
    "\n",
    "# Tempo na escola de mulheres entre 15 e 24 anos:\n",
    "\n",
    "http://ghdx.healthdata.org/record/ihme-data/global-educational-attainment-1970-2015\n",
    "\n",
    "# Exportações:\n",
    "\n",
    "https://data.worldbank.org/indicator/NE.EXP.GNFS.ZS\n",
    "\n",
    "# Importações:\n",
    "\n",
    "https://data.worldbank.org/indicator/NE.IMP.GNFS.ZS\n",
    "\n",
    "# Trocas comerciais:\n",
    "\n",
    "https://data.worldbank.org/indicator/TG.VAL.TOTL.GD.ZS"
   ]
  },
  {
   "cell_type": "markdown",
   "metadata": {},
   "source": [
    "## Análise de dados"
   ]
  },
  {
   "cell_type": "markdown",
   "metadata": {},
   "source": [
    "Insira abaixo uma análise de dados tratada para ter maior clareza. \n",
    "\n",
    "Lembre-se de que, além deste arquivo principal, você precisa entregar um ou mais *notebooks* mais brutos com todas as tentativas que fez e que não deram certo .\n",
    "\n",
    "**Não inclua dados ou gráficos sem motivação nem interpretação** - sempre que fizer uma análise, plot ou tablea, diga qual sua intenção. Logo após a apresentação diga qual conclusão específica ou interpretação você tira daquela análise"
   ]
  },
  {
   "cell_type": "code",
   "execution_count": 3,
   "metadata": {},
   "outputs": [],
   "source": [
    "%matplotlib inline\n",
    "import pandas as pd\n",
    "import numpy as np\n",
    "import math as math\n",
    "from scipy import stats\n",
    "import matplotlib.pyplot as plt"
   ]
  },
  {
   "cell_type": "code",
   "execution_count": 4,
   "metadata": {},
   "outputs": [],
   "source": [
    "gdpcapita = pd.read_excel(\"gdppercapita_us_inflation_adjusted.xlsx\")\n",
    "gdp = pd.read_excel(\"total_gdp_ppp_inflation_adjusted.xlsx\")\n",
    "expvida = pd.read_excel(\"life_expectancy_years.xlsx\")\n",
    "men_school = pd.read_excel(\"mean_years_in_school_men_15_to_24_years.xlsx\")\n",
    "women_school = pd.read_excel(\"mean_years_in_school_women_15_to_24_years.xlsx\")\n",
    "exports = pd.read_excel(\"exports_percent_of_gdp.xlsx\")\n",
    "imports = pd.read_excel(\"imports_percent_of_gdp.xlsx\")\n",
    "trade = pd.read_excel(\"merchandise_trade_percent_of_gdp.xlsx\")"
   ]
  },
  {
   "cell_type": "code",
   "execution_count": 5,
   "metadata": {},
   "outputs": [],
   "source": [
    "gdpcapita_idx = gdpcapita.set_index(\"country\")\n",
    "gdp_idx = gdp.set_index(\"country\")\n",
    "expvida_idx = expvida.set_index(\"country\")\n",
    "men_school_idx = men_school.set_index(\"country\")\n",
    "women_school_idx = women_school.set_index(\"country\")\n",
    "exports_idx = exports.set_index(\"country\")\n",
    "imports_idx = imports.set_index(\"country\")\n",
    "trade_idx = trade.set_index(\"country\")"
   ]
  },
  {
   "cell_type": "code",
   "execution_count": 6,
   "metadata": {},
   "outputs": [],
   "source": [
    "linhas = [\"Cambodia\", \"Lao\", \"Myanmar\", \"Vietnam\", \"Indonesia\", \"Malaysia\", \"Philippines\", \"Singapore\", \"Thailand\", \"Brunei\"]\n",
    "colunas = [ano for ano in range(1993,2014)]\n",
    "aseancapita = gdpcapita_idx.loc[linhas, colunas]\n",
    "aseangdp = gdp_idx.loc[linhas, colunas]\n",
    "aseanexpvida = expvida_idx.loc[linhas, colunas]\n",
    "aseanmenschool = men_school_idx.loc[linhas,colunas]\n",
    "aseanwomenschool = women_school_idx.loc[linhas,colunas]\n",
    "aseanexports = exports_idx.loc[linhas,colunas]\n",
    "aseanimports = imports_idx.loc[linhas,colunas]\n",
    "aseantrade = trade_idx.loc[linhas,colunas]"
   ]
  },
  {
   "cell_type": "code",
   "execution_count": 7,
   "metadata": {},
   "outputs": [],
   "source": [
    "antes_1990 = [\"Indonesia\", \"Malaysia\", \"Philippines\", \"Singapore\", \"Thailand\", \"Brunei\"]\n",
    "indicadores = [aseancapita, aseangdp, aseanexpvida, aseanmenschool, aseanwomenschool, aseanexports, aseanimports, aseantrade]\n",
    "for indicador in indicadores:\n",
    "    indicador.loc[:,\"Membro_antes_de_1990\"] = \"Não\"\n",
    "    indicador.loc[antes_1990,\"Membro_antes_de_1990\"] = \"Sim\""
   ]
  },
  {
   "cell_type": "code",
   "execution_count": 8,
   "metadata": {},
   "outputs": [],
   "source": [
    "def reta(dados_x, dados_y, c):    \n",
    "    a = dados_y.cov(dados_x) / dados_x.var()\n",
    "    b = dados_y.mean() - a*dados_x.mean()\n",
    "\n",
    "    print('Ajuste linear entre X3 e X4:')\n",
    "    print('Coeficiente linear:', b)\n",
    "    print('Coeficiente angular:', a)\n",
    "    plt.scatter(dados_x, dados_y, c=c, alpha=0.8)\n",
    "    plt.title('x versus y')\n",
    "    plt.xlabel('eixo x')\n",
    "    plt.ylabel('eixo y')\n",
    "\n",
    "    plt.plot((dados_x.min(), dados_x.max()), (a*dados_x.min()+b, a*dados_x.max()+b), color=c)\n",
    "\n",
    "    plt.tight_layout()"
   ]
  },
  {
   "cell_type": "code",
   "execution_count": null,
   "metadata": {},
   "outputs": [],
   "source": [
    "tempo = np.arange(1993,2013,1)\n",
    "for ano in tempo:\n",
    "    print(ano)\n",
    "    for indicador1 in indicadores:\n",
    "        for indicador2 in indicadores:\n",
    "            plt.scatter(indicador1.loc[indicador1.Membro_antes_de_1990==\"Sim\",ano], indicador2.loc[indicador2.Membro_antes_de_1990==\"Sim\", ano], color=\"r\")\n",
    "            reta(indicador1.loc[indicador1.Membro_antes_de_1990==\"Sim\",ano], indicador2.loc[indicador2.Membro_antes_de_1990==\"Sim\", ano], \"r\")\n",
    "            plt.scatter(indicador1.loc[indicador1.Membro_antes_de_1990==\"Não\",ano], indicador2.loc[indicador2.Membro_antes_de_1990==\"Não\", ano], color=\"b\")\n",
    "            reta(indicador1.loc[indicador1.Membro_antes_de_1990==\"Não\",ano], indicador2.loc[indicador2.Membro_antes_de_1990==\"Não\", ano], \"g\")\n",
    "            plt.grid(True)\n",
    "            plt.show()"
   ]
  },
  {
   "cell_type": "markdown",
   "metadata": {},
   "source": [
    "## Conclusão"
   ]
  },
  {
   "cell_type": "markdown",
   "metadata": {},
   "source": [
    "Responda à pergunta, argumentando da melhor forma possível com base nos dados"
   ]
  },
  {
   "cell_type": "markdown",
   "metadata": {},
   "source": [
    "Como podemos observar nos gráficos, os valores dos indicadores observados em Laos, Cambodia, Vietnã e Mianmar eram bem pequenos em 1993 quando comparados com os valores do resto dos países da ASEAN no mesmo ano. No entanto, à medida que o tempo passa e os 4 países se juntam ao bloco, podemos observar, como nos gráficos de 2000, que os valores dos 4 países se aproximaram muito dos valores do resto do bloco, provando que entrar no bloco contibuiu para o desenvolvimento desses países. Ou seja, minha hipótese estava correta, q.e.d.\n",
    "\n",
    "Obs: Esses anos foram escolhidos especificamente pois em 1993 nenhum dos 4 países fazia parte da ASEAN e em 2000 os 4 já eram membros"
   ]
  },
  {
   "cell_type": "markdown",
   "metadata": {},
   "source": [
    " "
   ]
  }
 ],
 "metadata": {
  "kernelspec": {
   "display_name": "Python 3",
   "language": "python",
   "name": "python3"
  },
  "language_info": {
   "codemirror_mode": {
    "name": "ipython",
    "version": 3
   },
   "file_extension": ".py",
   "mimetype": "text/x-python",
   "name": "python",
   "nbconvert_exporter": "python",
   "pygments_lexer": "ipython3",
   "version": "3.7.3"
  }
 },
 "nbformat": 4,
 "nbformat_minor": 2
}
