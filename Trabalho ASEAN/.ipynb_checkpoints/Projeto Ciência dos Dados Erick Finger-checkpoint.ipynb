{
 "cells": [
  {
   "cell_type": "markdown",
   "metadata": {},
   "source": [
    "# Projeto 1 - Ciência dos Dados"
   ]
  },
  {
   "cell_type": "markdown",
   "metadata": {},
   "source": [
    "Nome: Erick Finger"
   ]
  },
  {
   "cell_type": "markdown",
   "metadata": {},
   "source": [
    "## Pergunta (s) a ser respondida"
   ]
  },
  {
   "cell_type": "markdown",
   "metadata": {},
   "source": [
    "Os indicadores usados no cálculo do IDH experienciam melhora no período de 1993-2000 para Laos, Cambodia, Vietnã e Mianmar?"
   ]
  },
  {
   "cell_type": "markdown",
   "metadata": {},
   "source": [
    "## Explicação da hipótese e mecanismo"
   ]
  },
  {
   "cell_type": "markdown",
   "metadata": {},
   "source": [
    "## Hipótese:\n",
    "\n",
    "Ao longo da década de 1990, foram observadas algumas ocorrências na Ásia:\n",
    "- a ASEAN (Association of Southeast Asian Nations), um bloco que visava o crescimento econômico e o desenvolvimento cultural e social dos países-membros, se tornou um bloco de livre-comércio em 1992;\n",
    "- em 1995, o Vietnã se junta à ASEAN\n",
    "- em 1997, Laos e Mianmar se juntam à ASEAN\n",
    "- em 1999, o Cambodia se junta à ASEAN, sendo o país-membro mais recente\n",
    "\n",
    "Dado isso, acredita-se que a entrada no bloco por parte dos 4 países mencionados tenha contribuído em aspectos como crescimento econômico, educação e expectativa de vida, ou seja, entrar no bloco contribuiu para o desenvolvimento desses países\n",
    "\n",
    "## Mecanismo:\n",
    "\n",
    "Os objetivos fundamentais da ASEAN são a paz regional e o desenvolvimento econômico, social, cultural, tecnológico, científico e administrativo dos países-membros, então juntar-se ao bloco, ainda mais no período em que está se tornando um bloco de livre comércio, deve contribuir em alguma escala para o desenvolvimento de um país.\n",
    "\n",
    "## Referência:\n",
    "\n",
    "https://asean.org/asean/about-asean/"
   ]
  },
  {
   "cell_type": "markdown",
   "metadata": {},
   "source": [
    "## Bases de dados usadas"
   ]
  },
  {
   "cell_type": "markdown",
   "metadata": {},
   "source": [
    "# GDPpercapita:\n",
    "\n",
    "https://data.worldbank.org/indicator/NY.GDP.PCAP.KD\n",
    "\n",
    "# GDP:\n",
    "\n",
    "https://www.gapminder.org/data/documentation/gd001/\n",
    "\n",
    "# Expectativa de vida:\n",
    "\n",
    "https://www.gapminder.org/data/documentation/gd004/\n",
    "\n",
    "# Tempo na escola de homens entre 15 e 24 anos:\n",
    "\n",
    "http://ghdx.healthdata.org/record/ihme-data/global-educational-attainment-1970-2015\n",
    "\n",
    "# Tempo na escola de mulheres entre 15 e 24 anos:\n",
    "\n",
    "http://ghdx.healthdata.org/record/ihme-data/global-educational-attainment-1970-2015\n",
    "\n",
    "# Exportações:\n",
    "\n",
    "https://data.worldbank.org/indicator/NE.EXP.GNFS.ZS\n",
    "\n",
    "# Importações:\n",
    "\n",
    "https://data.worldbank.org/indicator/NE.IMP.GNFS.ZS\n",
    "\n",
    "# Trocas comerciais:\n",
    "\n",
    "https://data.worldbank.org/indicator/TG.VAL.TOTL.GD.ZS"
   ]
  },
  {
   "cell_type": "markdown",
   "metadata": {},
   "source": [
    "## Análise de dados"
   ]
  },
  {
   "cell_type": "code",
   "execution_count": 1,
   "metadata": {},
   "outputs": [],
   "source": [
    "%matplotlib inline\n",
    "import pandas as pd\n",
    "import numpy as np\n",
    "import math as math\n",
    "from scipy import stats\n",
    "import matplotlib.pyplot as plt"
   ]
  },
  {
   "cell_type": "code",
   "execution_count": 2,
   "metadata": {},
   "outputs": [],
   "source": [
    "gdpcapita = pd.read_excel(\"gdppercapita_us_inflation_adjusted.xlsx\")\n",
    "gdp = pd.read_excel(\"total_gdp_ppp_inflation_adjusted.xlsx\")\n",
    "expvida = pd.read_excel(\"life_expectancy_years.xlsx\")\n",
    "men_school = pd.read_excel(\"mean_years_in_school_men_15_to_24_years.xlsx\")\n",
    "women_school = pd.read_excel(\"mean_years_in_school_women_15_to_24_years.xlsx\")\n",
    "exports = pd.read_excel(\"exports_percent_of_gdp.xlsx\")\n",
    "imports = pd.read_excel(\"imports_percent_of_gdp.xlsx\")\n",
    "trade = pd.read_excel(\"merchandise_trade_percent_of_gdp.xlsx\")"
   ]
  },
  {
   "cell_type": "code",
   "execution_count": 3,
   "metadata": {},
   "outputs": [],
   "source": [
    "gdpcapita_idx = gdpcapita.set_index(\"country\")\n",
    "gdp_idx = gdp.set_index(\"country\")\n",
    "expvida_idx = expvida.set_index(\"country\")\n",
    "men_school_idx = men_school.set_index(\"country\")\n",
    "women_school_idx = women_school.set_index(\"country\")\n",
    "exports_idx = exports.set_index(\"country\")\n",
    "imports_idx = imports.set_index(\"country\")\n",
    "trade_idx = trade.set_index(\"country\")"
   ]
  },
  {
   "cell_type": "code",
   "execution_count": 4,
   "metadata": {},
   "outputs": [],
   "source": [
    "linhas = [\"Cambodia\", \"Lao\", \"Myanmar\", \"Vietnam\", \"Indonesia\", \"Malaysia\", \"Philippines\", \"Singapore\", \"Thailand\", \"Brunei\"]\n",
    "colunas = [ano for ano in range(1993,2014)]\n",
    "aseancapita = gdpcapita_idx.loc[linhas, colunas]\n",
    "aseangdp = gdp_idx.loc[linhas, colunas]\n",
    "aseanexpvida = expvida_idx.loc[linhas, colunas]\n",
    "aseanmenschool = men_school_idx.loc[linhas,colunas]\n",
    "aseanwomenschool = women_school_idx.loc[linhas,colunas]\n",
    "aseanexports = exports_idx.loc[linhas,colunas]\n",
    "aseanimports = imports_idx.loc[linhas,colunas]\n",
    "aseantrade = trade_idx.loc[linhas,colunas]"
   ]
  },
  {
   "cell_type": "code",
   "execution_count": 5,
   "metadata": {},
   "outputs": [],
   "source": [
    "antes_1990 = [\"Indonesia\", \"Malaysia\", \"Philippines\", \"Singapore\", \"Thailand\", \"Brunei\"]\n",
    "indicadores = [aseancapita, aseangdp, aseanexpvida, aseanmenschool, aseanwomenschool, aseanexports, aseanimports, aseantrade]\n",
    "for indicador in indicadores:\n",
    "    indicador.loc[:,\"Membro_antes_de_1990\"] = \"Não\"\n",
    "    indicador.loc[antes_1990,\"Membro_antes_de_1990\"] = \"Sim\""
   ]
  },
  {
   "cell_type": "code",
   "execution_count": 6,
   "metadata": {},
   "outputs": [],
   "source": [
    "aseangdp_t = aseangdp.loc[:, [1993,2001]]\n",
    "aseantrade_t = aseantrade.loc[:, [1993,2001]]\n",
    "df = aseangdp_t.join(aseantrade_t, how=\"inner\", lsuffix=\"_gdp\", rsuffix=\"_trade\")\n",
    "df.loc[:,\"Membro_antes_de_1990\"] = \"Não\"\n",
    "df.loc[antes_1990,\"Membro_antes_de_1990\"] = \"Sim\""
   ]
  },
  {
   "cell_type": "code",
   "execution_count": 7,
   "metadata": {},
   "outputs": [],
   "source": [
    "aseanmen_t = aseanmenschool.loc[:,[1993,2001]]\n",
    "aseanwomen_t = aseanwomenschool.loc[:,[1993,2001]]\n",
    "aseanschool = aseanmen_t.join(aseanwomen_t, how=\"inner\", lsuffix=\"_men\", rsuffix=\"_women\")\n",
    "aseanschool.loc[:,1993] = ((aseanschool[\"1993_men\"])**2 + (aseanschool[\"1993_men\"])**2)**(1/2)\n",
    "aseanschool.loc[:,2001] = ((aseanschool[\"2001_men\"])**2 + (aseanschool[\"2001_men\"])**2)**(1/2)\n",
    "asean_school = aseanschool.loc[:,[1993,2001]]"
   ]
  },
  {
   "cell_type": "code",
   "execution_count": 8,
   "metadata": {},
   "outputs": [],
   "source": [
    "aseanexp_t = aseanexpvida.loc[:,[1993,2001]]\n",
    "df2 = asean_school.join(aseanexp_t, how=\"inner\", lsuffix=\"_school\", rsuffix=\"_life_expectancy\")\n",
    "asean_school.loc[:,\"Membro_antes_de_1990\"] = \"Não\"\n",
    "asean_school.loc[antes_1990,\"Membro_antes_de_1990\"] = \"Sim\"\n",
    "df2.loc[:,\"Membro_antes_de_1990\"] = \"Não\"\n",
    "df2.loc[antes_1990,\"Membro_antes_de_1990\"] = \"Sim\""
   ]
  },
  {
   "cell_type": "code",
   "execution_count": 9,
   "metadata": {},
   "outputs": [],
   "source": [
    "def reta(dados_x, dados_y, c):    \n",
    "    a = dados_y.cov(dados_x) / dados_x.var()\n",
    "    b = dados_y.mean() - a*dados_x.mean()\n",
    "\n",
    "    print('Ajuste linear entre X3 e X4:')\n",
    "    print('Coeficiente linear:', b)\n",
    "    print('Coeficiente angular:', a)\n",
    "    plt.scatter(dados_x, dados_y, c=c, alpha=0.8)\n",
    "    plt.title('x versus y')\n",
    "    plt.xlabel('eixo x')\n",
    "    plt.ylabel('eixo y')\n",
    "\n",
    "    plt.plot((dados_x.min(), dados_x.max()), (a*dados_x.min()+b, a*dados_x.max()+b), color=c)\n",
    "\n",
    "    plt.tight_layout()"
   ]
  },
  {
   "cell_type": "code",
   "execution_count": 10,
   "metadata": {},
   "outputs": [],
   "source": [
    "indicador1 = aseantrade\n",
    "indicador2 = aseangdp\n",
    "ano1 = 1993\n",
    "ano2 = 2001"
   ]
  },
  {
   "cell_type": "code",
   "execution_count": 11,
   "metadata": {},
   "outputs": [
    {
     "name": "stdout",
     "output_type": "stream",
     "text": [
      "Ajuste linear entre X3 e X4:\n",
      "Coeficiente linear: 590604534499.0847\n",
      "Coeficiente angular: -2214803284.3202615\n",
      "Ajuste linear entre X3 e X4:\n",
      "Coeficiente linear: -49101741120.26837\n",
      "Coeficiente angular: 2364532127.488877\n"
     ]
    },
    {
     "data": {
      "image/png": "[encoded data removed]",
      "text/plain": [
       "<Figure size 432x288 with 1 Axes>"
      ]
     },
     "metadata": {
      "needs_background": "light"
     },
     "output_type": "display_data"
    },
    {
     "name": "stdout",
     "output_type": "stream",
     "text": [
      "Ajuste linear entre X3 e X4:\n",
      "Coeficiente linear: 766544790426.9546\n",
      "Coeficiente angular: -2397316836.748432\n",
      "Ajuste linear entre X3 e X4:\n",
      "Coeficiente linear: -115760292408.96835\n",
      "Coeficiente angular: 2553810671.028587\n"
     ]
    },
    {
     "data": {
      "image/png": "[encoded data removed]",
      "text/plain": [
       "<Figure size 432x288 with 1 Axes>"
      ]
     },
     "metadata": {
      "needs_background": "light"
     },
     "output_type": "display_data"
    }
   ],
   "source": [
    "plt.scatter(indicador1.loc[indicador1.Membro_antes_de_1990==\"Sim\",ano1], indicador2.loc[indicador2.Membro_antes_de_1990==\"Sim\", ano1], color=\"r\")\n",
    "reta(indicador1.loc[indicador1.Membro_antes_de_1990==\"Sim\",ano1], indicador2.loc[indicador2.Membro_antes_de_1990==\"Sim\", ano1], \"r\")\n",
    "plt.scatter(indicador1.loc[indicador1.Membro_antes_de_1990==\"Não\",ano1], indicador2.loc[indicador2.Membro_antes_de_1990==\"Não\", ano1], color=\"b\")\n",
    "reta(indicador1.loc[indicador1.Membro_antes_de_1990==\"Não\",ano1], indicador2.loc[indicador2.Membro_antes_de_1990==\"Não\", ano1], \"g\")\n",
    "plt.grid(True)\n",
    "plt.title(\"Trocas comerciais comparadas com o PIB de cada país no ano de 1993\")\n",
    "plt.xlabel(\"Trocas comerciais\")\n",
    "plt.ylabel(\"PIB(em unidades de 1e12)\")\n",
    "plt.show()\n",
    "\n",
    "plt.scatter(indicador1.loc[indicador1.Membro_antes_de_1990==\"Sim\",ano2], indicador2.loc[indicador2.Membro_antes_de_1990==\"Sim\", ano2], color=\"r\")\n",
    "reta(indicador1.loc[indicador1.Membro_antes_de_1990==\"Sim\",ano2], indicador2.loc[indicador2.Membro_antes_de_1990==\"Sim\", ano2], \"r\")\n",
    "plt.scatter(indicador1.loc[indicador1.Membro_antes_de_1990==\"Não\",ano2], indicador2.loc[indicador2.Membro_antes_de_1990==\"Não\", ano2], color=\"b\")\n",
    "reta(indicador1.loc[indicador1.Membro_antes_de_1990==\"Não\",ano2], indicador2.loc[indicador2.Membro_antes_de_1990==\"Não\", ano2], \"g\")\n",
    "plt.grid(True)\n",
    "plt.title(\"Trocas comerciais comparadas com o PIB de cada país no ano de 2001\")\n",
    "plt.xlabel(\"Trocas comerciais\")\n",
    "plt.ylabel(\"PIB(em unidades de 1e12)\")\n",
    "plt.show()"
   ]
  },
  {
   "cell_type": "markdown",
   "metadata": {},
   "source": [
    "Nos gráficos acima, podemos observas que entre 1993 e 2001, a maior parte dos países que se juntaram ao bloco na década de 1990 experienciaram aumento discreto em seus PIBs e notório em suas trocas comerciais, indicando melhora econômica. Para melhor visualização, aqui está um DataFrame:"
   ]
  },
  {
   "cell_type": "code",
   "execution_count": 12,
   "metadata": {},
   "outputs": [
    {
     "data": {
      "text/html": [
       "<div>\n",
       "<style scoped>\n",
       "    .dataframe tbody tr th:only-of-type {\n",
       "        vertical-align: middle;\n",
       "    }\n",
       "\n",
       "    .dataframe tbody tr th {\n",
       "        vertical-align: top;\n",
       "    }\n",
       "\n",
       "    .dataframe thead th {\n",
       "        text-align: right;\n",
       "    }\n",
       "</style>\n",
       "<table border=\"1\" class=\"dataframe\">\n",
       "  <thead>\n",
       "    <tr style=\"text-align: right;\">\n",
       "      <th></th>\n",
       "      <th>1993_gdp</th>\n",
       "      <th>2001_gdp</th>\n",
       "      <th>1993_trade</th>\n",
       "      <th>2001_trade</th>\n",
       "      <th>Membro_antes_de_1990</th>\n",
       "    </tr>\n",
       "    <tr>\n",
       "      <th>country</th>\n",
       "      <th></th>\n",
       "      <th></th>\n",
       "      <th></th>\n",
       "      <th></th>\n",
       "      <th></th>\n",
       "    </tr>\n",
       "  </thead>\n",
       "  <tbody>\n",
       "    <tr>\n",
       "      <th>Cambodia</th>\n",
       "      <td>10800000000</td>\n",
       "      <td>17800000000</td>\n",
       "      <td>29.8</td>\n",
       "      <td>90.2</td>\n",
       "      <td>Não</td>\n",
       "    </tr>\n",
       "    <tr>\n",
       "      <th>Lao</th>\n",
       "      <td>9230000000</td>\n",
       "      <td>13300000000</td>\n",
       "      <td>50.7</td>\n",
       "      <td>46.9</td>\n",
       "      <td>Não</td>\n",
       "    </tr>\n",
       "    <tr>\n",
       "      <th>Myanmar</th>\n",
       "      <td>74100000000</td>\n",
       "      <td>96500000000</td>\n",
       "      <td>NaN</td>\n",
       "      <td>81.2</td>\n",
       "      <td>Não</td>\n",
       "    </tr>\n",
       "    <tr>\n",
       "      <th>Vietnam</th>\n",
       "      <td>119000000000</td>\n",
       "      <td>211000000000</td>\n",
       "      <td>49.4</td>\n",
       "      <td>95.6</td>\n",
       "      <td>Não</td>\n",
       "    </tr>\n",
       "    <tr>\n",
       "      <th>Indonesia</th>\n",
       "      <td>984000000000</td>\n",
       "      <td>1220000000000</td>\n",
       "      <td>41.2</td>\n",
       "      <td>59.1</td>\n",
       "      <td>Sim</td>\n",
       "    </tr>\n",
       "    <tr>\n",
       "      <th>Malaysia</th>\n",
       "      <td>237000000000</td>\n",
       "      <td>369000000000</td>\n",
       "      <td>139.0</td>\n",
       "      <td>174.0</td>\n",
       "      <td>Sim</td>\n",
       "    </tr>\n",
       "    <tr>\n",
       "      <th>Philippines</th>\n",
       "      <td>246000000000</td>\n",
       "      <td>334000000000</td>\n",
       "      <td>55.0</td>\n",
       "      <td>88.6</td>\n",
       "      <td>Sim</td>\n",
       "    </tr>\n",
       "    <tr>\n",
       "      <th>Singapore</th>\n",
       "      <td>130000000000</td>\n",
       "      <td>203000000000</td>\n",
       "      <td>263.0</td>\n",
       "      <td>266.0</td>\n",
       "      <td>Sim</td>\n",
       "    </tr>\n",
       "    <tr>\n",
       "      <th>Thailand</th>\n",
       "      <td>465000000000</td>\n",
       "      <td>580000000000</td>\n",
       "      <td>64.4</td>\n",
       "      <td>106.0</td>\n",
       "      <td>Sim</td>\n",
       "    </tr>\n",
       "    <tr>\n",
       "      <th>Brunei</th>\n",
       "      <td>20300000000</td>\n",
       "      <td>24800000000</td>\n",
       "      <td>97.2</td>\n",
       "      <td>85.7</td>\n",
       "      <td>Sim</td>\n",
       "    </tr>\n",
       "  </tbody>\n",
       "</table>\n",
       "</div>"
      ],
      "text/plain": [
       "                 1993_gdp       2001_gdp  1993_trade  2001_trade  \\\n",
       "country                                                            \n",
       "Cambodia      10800000000    17800000000        29.8        90.2   \n",
       "Lao            9230000000    13300000000        50.7        46.9   \n",
       "Myanmar       74100000000    96500000000         NaN        81.2   \n",
       "Vietnam      119000000000   211000000000        49.4        95.6   \n",
       "Indonesia    984000000000  1220000000000        41.2        59.1   \n",
       "Malaysia     237000000000   369000000000       139.0       174.0   \n",
       "Philippines  246000000000   334000000000        55.0        88.6   \n",
       "Singapore    130000000000   203000000000       263.0       266.0   \n",
       "Thailand     465000000000   580000000000        64.4       106.0   \n",
       "Brunei        20300000000    24800000000        97.2        85.7   \n",
       "\n",
       "            Membro_antes_de_1990  \n",
       "country                           \n",
       "Cambodia                     Não  \n",
       "Lao                          Não  \n",
       "Myanmar                      Não  \n",
       "Vietnam                      Não  \n",
       "Indonesia                    Sim  \n",
       "Malaysia                     Sim  \n",
       "Philippines                  Sim  \n",
       "Singapore                    Sim  \n",
       "Thailand                     Sim  \n",
       "Brunei                       Sim  "
      ]
     },
     "execution_count": 12,
     "metadata": {},
     "output_type": "execute_result"
    }
   ],
   "source": [
    "df"
   ]
  },
  {
   "cell_type": "markdown",
   "metadata": {},
   "source": [
    "Mas não se deve apenas olhar para indicadores econômicos... outros dois fatores que são levados em conta para definir o desenvolvimento são o tempo médio escolar e a expectativa de vida, ou seja, educação e qualidade de vida"
   ]
  },
  {
   "cell_type": "code",
   "execution_count": 13,
   "metadata": {},
   "outputs": [],
   "source": [
    "indicador1 = asean_school\n",
    "indicador2 = aseanexpvida"
   ]
  },
  {
   "cell_type": "code",
   "execution_count": 14,
   "metadata": {},
   "outputs": [
    {
     "name": "stdout",
     "output_type": "stream",
     "text": [
      "Ajuste linear entre X3 e X4:\n",
      "Coeficiente linear: 56.80803187638096\n",
      "Coeficiente angular: 1.0965065090455095\n",
      "Ajuste linear entre X3 e X4:\n",
      "Coeficiente linear: 28.28669632731399\n",
      "Coeficiente angular: 4.145608586726153\n"
     ]
    },
    {
     "data": {
      "image/png": "[encoded data removed]",
      "text/plain": [
       "<Figure size 432x288 with 1 Axes>"
      ]
     },
     "metadata": {
      "needs_background": "light"
     },
     "output_type": "display_data"
    },
    {
     "name": "stdout",
     "output_type": "stream",
     "text": [
      "Ajuste linear entre X3 e X4:\n",
      "Coeficiente linear: 54.566888573638764\n",
      "Coeficiente angular: 1.2775255772862841\n",
      "Ajuste linear entre X3 e X4:\n",
      "Coeficiente linear: 29.68801552644345\n",
      "Coeficiente angular: 3.6653359755828663\n"
     ]
    },
    {
     "data": {
      "image/png": "[encoded data removed]",
      "text/plain": [
       "<Figure size 432x288 with 1 Axes>"
      ]
     },
     "metadata": {
      "needs_background": "light"
     },
     "output_type": "display_data"
    }
   ],
   "source": [
    "plt.scatter(indicador1.loc[indicador1.Membro_antes_de_1990==\"Sim\",ano1], indicador2.loc[indicador2.Membro_antes_de_1990==\"Sim\", ano1], color=\"r\")\n",
    "reta(indicador1.loc[indicador1.Membro_antes_de_1990==\"Sim\",ano1], indicador2.loc[indicador2.Membro_antes_de_1990==\"Sim\", ano1], \"r\")\n",
    "plt.scatter(indicador1.loc[indicador1.Membro_antes_de_1990==\"Não\",ano1], indicador2.loc[indicador2.Membro_antes_de_1990==\"Não\", ano1], color=\"b\")\n",
    "reta(indicador1.loc[indicador1.Membro_antes_de_1990==\"Não\",ano1], indicador2.loc[indicador2.Membro_antes_de_1990==\"Não\", ano1], \"g\")\n",
    "plt.grid(True)\n",
    "plt.title(\"Tempo médio de escola por expectativa de vida para o ano de 1993\")\n",
    "plt.xlabel(\"Tempo médio de escola (em anos) para jovens entre 15 e 24 anos\")\n",
    "plt.ylabel(\"Expectativa de vida (em anos)\")\n",
    "plt.show()\n",
    "\n",
    "plt.scatter(indicador1.loc[indicador1.Membro_antes_de_1990==\"Sim\",ano2], indicador2.loc[indicador2.Membro_antes_de_1990==\"Sim\", ano2], color=\"r\")\n",
    "reta(indicador1.loc[indicador1.Membro_antes_de_1990==\"Sim\",ano2], indicador2.loc[indicador2.Membro_antes_de_1990==\"Sim\", ano2], \"r\")\n",
    "plt.scatter(indicador1.loc[indicador1.Membro_antes_de_1990==\"Não\",ano2], indicador2.loc[indicador2.Membro_antes_de_1990==\"Não\", ano2], color=\"b\")\n",
    "reta(indicador1.loc[indicador1.Membro_antes_de_1990==\"Não\",ano2], indicador2.loc[indicador2.Membro_antes_de_1990==\"Não\", ano2], \"g\")\n",
    "plt.grid(True)\n",
    "plt.title(\"Tempo médio de escola por expectativa de vida para o ano de 2001\")\n",
    "plt.xlabel(\"Tempo médio de escola (em anos) para jovens entre 15 e 24 anos\")\n",
    "plt.ylabel(\"Expectativa de vida (em anos)\")\n",
    "plt.show()"
   ]
  },
  {
   "cell_type": "markdown",
   "metadata": {},
   "source": [
    "Nesses gráficos, podemos observar a educação e a expectativa de vida de cada país nos anos de 1993 e 2001, e, apesar de a diferença não serem expressivas, houve diferenças para Laos, Cambodia, Mianmar e Vietnã, pois os valores de todos aumentaram e ficaram mais próximos dos valores observados no bloco. Para melhor visualização, outro DataFrame:"
   ]
  },
  {
   "cell_type": "code",
   "execution_count": 15,
   "metadata": {},
   "outputs": [
    {
     "data": {
      "text/html": [
       "<div>\n",
       "<style scoped>\n",
       "    .dataframe tbody tr th:only-of-type {\n",
       "        vertical-align: middle;\n",
       "    }\n",
       "\n",
       "    .dataframe tbody tr th {\n",
       "        vertical-align: top;\n",
       "    }\n",
       "\n",
       "    .dataframe thead th {\n",
       "        text-align: right;\n",
       "    }\n",
       "</style>\n",
       "<table border=\"1\" class=\"dataframe\">\n",
       "  <thead>\n",
       "    <tr style=\"text-align: right;\">\n",
       "      <th></th>\n",
       "      <th>1993_school</th>\n",
       "      <th>2001_school</th>\n",
       "      <th>1993_life_expectancy</th>\n",
       "      <th>2001_life_expectancy</th>\n",
       "      <th>Membro_antes_de_1990</th>\n",
       "    </tr>\n",
       "    <tr>\n",
       "      <th>country</th>\n",
       "      <th></th>\n",
       "      <th></th>\n",
       "      <th></th>\n",
       "      <th></th>\n",
       "      <th></th>\n",
       "    </tr>\n",
       "  </thead>\n",
       "  <tbody>\n",
       "    <tr>\n",
       "      <th>Cambodia</th>\n",
       "      <td>6.858936</td>\n",
       "      <td>8.103444</td>\n",
       "      <td>58.1</td>\n",
       "      <td>60.1</td>\n",
       "      <td>Não</td>\n",
       "    </tr>\n",
       "    <tr>\n",
       "      <th>Lao</th>\n",
       "      <td>6.618519</td>\n",
       "      <td>7.933738</td>\n",
       "      <td>53.7</td>\n",
       "      <td>57.5</td>\n",
       "      <td>Não</td>\n",
       "    </tr>\n",
       "    <tr>\n",
       "      <th>Myanmar</th>\n",
       "      <td>7.212489</td>\n",
       "      <td>8.485281</td>\n",
       "      <td>59.1</td>\n",
       "      <td>61.5</td>\n",
       "      <td>Não</td>\n",
       "    </tr>\n",
       "    <tr>\n",
       "      <th>Vietnam</th>\n",
       "      <td>9.885353</td>\n",
       "      <td>11.285424</td>\n",
       "      <td>69.0</td>\n",
       "      <td>70.9</td>\n",
       "      <td>Não</td>\n",
       "    </tr>\n",
       "    <tr>\n",
       "      <th>Indonesia</th>\n",
       "      <td>10.352043</td>\n",
       "      <td>11.568267</td>\n",
       "      <td>64.9</td>\n",
       "      <td>67.6</td>\n",
       "      <td>Sim</td>\n",
       "    </tr>\n",
       "    <tr>\n",
       "      <th>Malaysia</th>\n",
       "      <td>13.053191</td>\n",
       "      <td>14.424978</td>\n",
       "      <td>72.1</td>\n",
       "      <td>73.3</td>\n",
       "      <td>Sim</td>\n",
       "    </tr>\n",
       "    <tr>\n",
       "      <th>Philippines</th>\n",
       "      <td>11.681404</td>\n",
       "      <td>12.558216</td>\n",
       "      <td>67.9</td>\n",
       "      <td>68.3</td>\n",
       "      <td>Sim</td>\n",
       "    </tr>\n",
       "    <tr>\n",
       "      <th>Singapore</th>\n",
       "      <td>13.845151</td>\n",
       "      <td>15.839192</td>\n",
       "      <td>76.9</td>\n",
       "      <td>79.8</td>\n",
       "      <td>Sim</td>\n",
       "    </tr>\n",
       "    <tr>\n",
       "      <th>Thailand</th>\n",
       "      <td>11.271282</td>\n",
       "      <td>12.713780</td>\n",
       "      <td>70.8</td>\n",
       "      <td>72.4</td>\n",
       "      <td>Sim</td>\n",
       "    </tr>\n",
       "    <tr>\n",
       "      <th>Brunei</th>\n",
       "      <td>17.819091</td>\n",
       "      <td>19.233304</td>\n",
       "      <td>73.8</td>\n",
       "      <td>76.3</td>\n",
       "      <td>Sim</td>\n",
       "    </tr>\n",
       "  </tbody>\n",
       "</table>\n",
       "</div>"
      ],
      "text/plain": [
       "             1993_school  2001_school  1993_life_expectancy  \\\n",
       "country                                                       \n",
       "Cambodia        6.858936     8.103444                  58.1   \n",
       "Lao             6.618519     7.933738                  53.7   \n",
       "Myanmar         7.212489     8.485281                  59.1   \n",
       "Vietnam         9.885353    11.285424                  69.0   \n",
       "Indonesia      10.352043    11.568267                  64.9   \n",
       "Malaysia       13.053191    14.424978                  72.1   \n",
       "Philippines    11.681404    12.558216                  67.9   \n",
       "Singapore      13.845151    15.839192                  76.9   \n",
       "Thailand       11.271282    12.713780                  70.8   \n",
       "Brunei         17.819091    19.233304                  73.8   \n",
       "\n",
       "             2001_life_expectancy Membro_antes_de_1990  \n",
       "country                                                 \n",
       "Cambodia                     60.1                  Não  \n",
       "Lao                          57.5                  Não  \n",
       "Myanmar                      61.5                  Não  \n",
       "Vietnam                      70.9                  Não  \n",
       "Indonesia                    67.6                  Sim  \n",
       "Malaysia                     73.3                  Sim  \n",
       "Philippines                  68.3                  Sim  \n",
       "Singapore                    79.8                  Sim  \n",
       "Thailand                     72.4                  Sim  \n",
       "Brunei                       76.3                  Sim  "
      ]
     },
     "execution_count": 15,
     "metadata": {},
     "output_type": "execute_result"
    }
   ],
   "source": [
    "df2"
   ]
  },
  {
   "cell_type": "markdown",
   "metadata": {},
   "source": [
    "## Conclusão"
   ]
  },
  {
   "cell_type": "markdown",
   "metadata": {},
   "source": [
    "Como podemos observar nos gráficos, os valores dos indicadores observados em Laos, Cambodia, Vietnã e Mianmar eram bem pequenos em 1993 quando comparados com os valores do resto dos países da ASEAN no mesmo ano. No entanto, à medida que o tempo passa e os 4 países se juntam ao bloco, podemos observar, como nos gráficos de 2001, que os valores dos 4 países se aproximaram dos valores do resto do bloco, provando que entrar no bloco contibuiu para o desenvolvimento desses países. Ou seja, minha hipótese estava correta, *quot erat demonstratum*\n",
    "\n",
    "Obs: Esses anos foram escolhidos especificamente pois em 1993 nenhum dos 4 países fazia parte da ASEAN e em 2001 os 4 já eram membros"
   ]
  },
  {
   "cell_type": "markdown",
   "metadata": {},
   "source": [
    " "
   ]
  }
 ],
 "metadata": {
  "kernelspec": {
   "display_name": "Python 3",
   "language": "python",
   "name": "python3"
  },
  "language_info": {
   "codemirror_mode": {
    "name": "ipython",
    "version": 3
   },
   "file_extension": ".py",
   "mimetype": "text/x-python",
   "name": "python",
   "nbconvert_exporter": "python",
   "pygments_lexer": "ipython3",
   "version": "3.7.3"
  }
 },
 "nbformat": 4,
 "nbformat_minor": 2
}
