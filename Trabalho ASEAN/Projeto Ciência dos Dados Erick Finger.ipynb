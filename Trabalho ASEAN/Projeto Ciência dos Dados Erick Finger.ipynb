{
 "cells": [
  {
   "cell_type": "markdown",
   "metadata": {},
   "source": [
    "# Projeto 1 - Ciência dos Dados"
   ]
  },
  {
   "cell_type": "markdown",
   "metadata": {},
   "source": [
    "Nome: Erick Finger"
   ]
  },
  {
   "cell_type": "markdown",
   "metadata": {},
   "source": [
    "## Pergunta (s) a ser respondida"
   ]
  },
  {
   "cell_type": "markdown",
   "metadata": {},
   "source": [
    "Os indicadores usados no cálculo do IDH experienciam melhora no período de 1993-2000 para Laos, Cambodia, Vietnã e Mianmar?"
   ]
  },
  {
   "cell_type": "markdown",
   "metadata": {},
   "source": [
    "## Explicação da hipótese e mecanismo"
   ]
  },
  {
   "cell_type": "markdown",
   "metadata": {},
   "source": [
    "## Hipótese:\n",
    "\n",
    "Ao longo da década de 1990, foram observadas algumas ocorrências na Ásia:\n",
    "- a ASEAN (Association of Southeast Asian Nations), um bloco que visava o crescimento econômico e o desenvolvimento cultural e social dos países-membros, se tornou um bloco de livre-comércio em 1992;\n",
    "- em 1995, o Vietnã se junta à ASEAN\n",
    "- em 1997, Laos e Mianmar se juntam à ASEAN\n",
    "- em 1999, o Cambodia se junta à ASEAN, sendo o país-membro mais recente\n",
    "\n",
    "Dado isso, acredita-se que a entrada no bloco por parte dos 4 países mencionados tenha contribuído em aspectos como crescimento econômico, educação e expectativa de vida, ou seja, entrar no bloco contribuiu para o desenvolvimento desses países\n",
    "\n",
    "## Mecanismo:\n",
    "\n",
    "Os objetivos fundamentais da ASEAN são a paz regional e o desenvolvimento econômico, social, cultural, tecnológico, científico e administrativo dos países-membros, então juntar-se ao bloco, ainda mais no período em que está se tornando um bloco de livre comércio, deve contribuir em alguma escala para o desenvolvimento de um país.\n",
    "\n",
    "## Referência:\n",
    "\n",
    "https://asean.org/asean/about-asean/"
   ]
  },
  {
   "cell_type": "markdown",
   "metadata": {},
   "source": [
    "## Bases de dados usadas"
   ]
  },
  {
   "cell_type": "markdown",
   "metadata": {},
   "source": [
    "Insira links para o site de download das bases de dados. Indique quais as variáveis de interesse vêm de cada uma"
   ]
  },
  {
   "cell_type": "markdown",
   "metadata": {},
   "source": [
    "## Análise de dados"
   ]
  },
  {
   "cell_type": "markdown",
   "metadata": {},
   "source": [
    "Insira abaixo uma análise de dados tratada para ter maior clareza. \n",
    "\n",
    "Lembre-se de que, além deste arquivo principal, você precisa entregar um ou mais *notebooks* mais brutos com todas as tentativas que fez e que não deram certo .\n",
    "\n",
    "**Não inclua dados ou gráficos sem motivação nem interpretação** - sempre que fizer uma análise, plot ou tablea, diga qual sua intenção. Logo após a apresentação diga qual conclusão específica ou interpretação você tira daquela análise"
   ]
  },
  {
   "cell_type": "code",
   "execution_count": null,
   "metadata": {},
   "outputs": [],
   "source": []
  },
  {
   "cell_type": "code",
   "execution_count": null,
   "metadata": {},
   "outputs": [],
   "source": []
  },
  {
   "cell_type": "code",
   "execution_count": null,
   "metadata": {},
   "outputs": [],
   "source": []
  },
  {
   "cell_type": "markdown",
   "metadata": {},
   "source": [
    "## Conclusão"
   ]
  },
  {
   "cell_type": "markdown",
   "metadata": {},
   "source": [
    "Responda à pergunta, argumento da melhor forma possível com base nos dados"
   ]
  },
  {
   "cell_type": "code",
   "execution_count": null,
   "metadata": {},
   "outputs": [],
   "source": []
  }
 ],
 "metadata": {
  "kernelspec": {
   "display_name": "Python 3",
   "language": "python",
   "name": "python3"
  },
  "language_info": {
   "codemirror_mode": {
    "name": "ipython",
    "version": 3
   },
   "file_extension": ".py",
   "mimetype": "text/x-python",
   "name": "python",
   "nbconvert_exporter": "python",
   "pygments_lexer": "ipython3",
   "version": "3.7.3"
  }
 },
 "nbformat": 4,
 "nbformat_minor": 2
}
